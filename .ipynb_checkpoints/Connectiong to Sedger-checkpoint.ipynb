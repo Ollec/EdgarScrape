{
 "cells": [
  {
   "cell_type": "code",
   "execution_count": 57,
   "metadata": {
    "collapsed": true
   },
   "outputs": [],
   "source": [
    "import psycopg2 \n",
    "##pip install psycopg2"
   ]
  },
  {
   "cell_type": "code",
   "execution_count": 58,
   "metadata": {
    "collapsed": true
   },
   "outputs": [],
   "source": [
    "## User info\n",
    "dbname='Sedgar'\n",
    "host='192.168.1.67'\n",
    "user='ted'\n",
    "port=5432\n",
    "pwd='password'"
   ]
  },
  {
   "cell_type": "code",
   "execution_count": 108,
   "metadata": {
    "collapsed": true
   },
   "outputs": [],
   "source": [
    "## attempting to connect to Sedgar\n",
    "try:\n",
    "    con=psycopg2.connect(dbname= dbname, host=host, port=port, user= user, password= pwd)\n",
    "except psycopg2.Error as e:\n",
    "    print (e)\n",
    "\n",
    "cur= con.cursor()"
   ]
  },
  {
   "cell_type": "code",
   "execution_count": 96,
   "metadata": {},
   "outputs": [],
   "source": [
    "## SQL to Creates the table for enteries\n",
    "sql=\"\"\"\n",
    "    CREATE TABLE edgar_entries_scrapped (\n",
    "    edgar_link varchar,\n",
    "    date_found timestamp,\n",
    "    period_of_report varchar,\n",
    "    company_name varchar, \n",
    "    ticker varchar,\n",
    "    total_value float8,\n",
    "    is_director bool,\n",
    "    is_officer bool,\n",
    "    is_ten_percent_owner bool,\n",
    "    officer_title varchar,\n",
    "    rpt_owner_name varchar,\n",
    "    signer varchar,\n",
    "    is_attorney bool,\n",
    "    buy_or_selling varchar,\n",
    "    before_shares float8,\n",
    "    after_shares float8,\n",
    "    shares float8,\n",
    "    traded_value float8,\n",
    "    last_value float8,\n",
    "    pol float8,\n",
    "    sub float8\n",
    ");\n",
    "\"\"\""
   ]
  },
  {
   "cell_type": "code",
   "execution_count": 91,
   "metadata": {
    "collapsed": true
   },
   "outputs": [],
   "source": [
    "## If I mess it up remove it\n",
    "sql=\"DROP TABLE edgar_entries_scrapped;\""
   ]
  },
  {
   "cell_type": "code",
   "execution_count": 97,
   "metadata": {},
   "outputs": [],
   "source": [
    "cur.execute(sql)"
   ]
  },
  {
   "cell_type": "code",
   "execution_count": 98,
   "metadata": {},
   "outputs": [],
   "source": [
    "con.commit()"
   ]
  },
  {
   "cell_type": "code",
   "execution_count": 107,
   "metadata": {
    "collapsed": true
   },
   "outputs": [],
   "source": [
    "con.close()"
   ]
  },
  {
   "cell_type": "code",
   "execution_count": 105,
   "metadata": {},
   "outputs": [],
   "source": [
    "path=\"/home/ted/Documents/Enteries.csv\" \n",
    "table=\"edgar_entries_scrapped\"\n",
    "sep=\",\"\n",
    "##colunms=('link','Date_Found',\"periodOfReport\",\"Company name\",\"ticker\",\"Total Value\",\"isDirector\",\"isOfficer\",\"isTenPercentOwner\",\"officerTitle\",\"rptOwnerName\",\"signer\",\"isAttorney\",\"Buy or Selling\",\"Before Shares\",\"After Shares\",\"Shares\",\"Taraded Value\",\"Last Value\",\"Pol\",\"Sub\")\n",
    "\n",
    "\n",
    "f=open(path)"
   ]
  },
  {
   "cell_type": "code",
   "execution_count": 106,
   "metadata": {},
   "outputs": [
    {
     "ename": "DataError",
     "evalue": "invalid input syntax for type timestamp: \"Date_Found\"\nCONTEXT:  COPY edgar_entries_scrapped, line 1, column date_found: \"Date_Found\"\n",
     "output_type": "error",
     "traceback": [
      "\u001b[0;31m---------------------------------------------------------------------------\u001b[0m",
      "\u001b[0;31mDataError\u001b[0m                                 Traceback (most recent call last)",
      "\u001b[0;32m<ipython-input-106-2186070efe68>\u001b[0m in \u001b[0;36m<module>\u001b[0;34m()\u001b[0m\n\u001b[0;32m----> 1\u001b[0;31m \u001b[0mcur\u001b[0m\u001b[0;34m.\u001b[0m\u001b[0mcopy_from\u001b[0m\u001b[0;34m(\u001b[0m\u001b[0mf\u001b[0m\u001b[0;34m,\u001b[0m\u001b[0mtable\u001b[0m\u001b[0;34m,\u001b[0m\u001b[0msep\u001b[0m\u001b[0;34m)\u001b[0m\u001b[0;34m\u001b[0m\u001b[0m\n\u001b[0m",
      "\u001b[0;31mDataError\u001b[0m: invalid input syntax for type timestamp: \"Date_Found\"\nCONTEXT:  COPY edgar_entries_scrapped, line 1, column date_found: \"Date_Found\"\n"
     ]
    }
   ],
   "source": [
    "cur.copy_from(f,table,sep)"
   ]
  },
  {
   "cell_type": "code",
   "execution_count": 109,
   "metadata": {},
   "outputs": [
    {
     "data": {
      "text/plain": [
       "[]"
      ]
     },
     "execution_count": 109,
     "metadata": {},
     "output_type": "execute_result"
    }
   ],
   "source": [
    "cur.execute(\"SELECT * FROM edgar_entries_scrapped LIMIT 5;\")\n",
    "cur.fetchall()  "
   ]
  },
  {
   "cell_type": "code",
   "execution_count": 79,
   "metadata": {
    "collapsed": true
   },
   "outputs": [],
   "source": []
  },
  {
   "cell_type": "code",
   "execution_count": null,
   "metadata": {
    "collapsed": true
   },
   "outputs": [],
   "source": []
  }
 ],
 "metadata": {
  "kernelspec": {
   "display_name": "Python 3",
   "language": "python",
   "name": "python3"
  },
  "language_info": {
   "codemirror_mode": {
    "name": "ipython",
    "version": 3
   },
   "file_extension": ".py",
   "mimetype": "text/x-python",
   "name": "python",
   "nbconvert_exporter": "python",
   "pygments_lexer": "ipython3",
   "version": "3.6.1"
  }
 },
 "nbformat": 4,
 "nbformat_minor": 2
}
