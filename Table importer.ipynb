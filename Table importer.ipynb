{
 "cells": [
  {
   "cell_type": "code",
   "execution_count": null,
   "metadata": {
    "collapsed": true
   },
   "outputs": [],
   "source": [
    "CREATE TABLE zip_codes \n",
    "(ZIP char(5), LATITUDE double precision, LONGITUDE double precision, \n",
    "CITY varchar, STATE char(2), COUNTY varchar, ZIP_CLASS varchar);"
   ]
  },
  {
   "cell_type": "code",
   "execution_count": null,
   "metadata": {
    "collapsed": true
   },
   "outputs": [],
   "source": [
    "COPY zip_codes FROM '/path/to/csv/ZIP_CODES.txt' DELIMITER ',' CSV;"
   ]
  },
  {
   "cell_type": "code",
   "execution_count": null,
   "metadata": {
    "collapsed": true
   },
   "outputs": [],
   "source": [
    "CREATE TABLE edgar_entries_scrapped\n",
    "(\n",
    "    edgar_link varchar,\n",
    "    period_of_report date,\n",
    "    company_name varchar, \n",
    "    ticker varchar,\n",
    "    total_value float8,\n",
    "    is_director bool,\n",
    "    is_officer bool,\n",
    "    is_ten_percent_owner bool,\n",
    "    officer_title varchar,\n",
    "    rpt_owner_name varchar,\n",
    "    signer varchar,\n",
    "    is_attorney bool,\n",
    "    buy_or_selling varchar,\n",
    "    before_shares float8,\n",
    "    after_shares float8,\n",
    "    ahares float8,\n",
    "    traded_value float8,\n",
    "    last_value float8,\n",
    "    pol float8,\n",
    "    sub float8\n",
    ");"
   ]
  }
 ],
 "metadata": {
  "kernelspec": {
   "display_name": "Python 3",
   "language": "python",
   "name": "python3"
  },
  "language_info": {
   "codemirror_mode": {
    "name": "ipython",
    "version": 3
   },
   "file_extension": ".py",
   "mimetype": "text/x-python",
   "name": "python",
   "nbconvert_exporter": "python",
   "pygments_lexer": "ipython3",
   "version": "3.6.1"
  }
 },
 "nbformat": 4,
 "nbformat_minor": 2
}
